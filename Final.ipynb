{
  "nbformat": 4,
  "nbformat_minor": 0,
  "metadata": {
    "colab": {
      "provenance": []
    },
    "kernelspec": {
      "name": "python3",
      "display_name": "Python 3"
    },
    "language_info": {
      "name": "python"
    }
  },
  "cells": [
    {
      "cell_type": "code",
      "execution_count": 4,
      "metadata": {
        "colab": {
          "base_uri": "https://localhost:8080/",
          "height": 594
        },
        "id": "LZbzJscKy_LI",
        "outputId": "9083ef5d-9cec-4867-d954-d1f11968b19f"
      },
      "outputs": [
        {
          "output_type": "stream",
          "name": "stdout",
          "text": [
            "Column Names in the Table: Index(['Unnamed: 0', 'Location', 'Population', '% of world', 'Date',\n",
            "       'Source (official or from the United Nations)', 'Notes'],\n",
            "      dtype='object')\n"
          ]
        },
        {
          "output_type": "display_data",
          "data": {
            "text/html": [
              "<html>\n",
              "<head><meta charset=\"utf-8\" /></head>\n",
              "<body>\n",
              "    <div>            <script src=\"https://cdnjs.cloudflare.com/ajax/libs/mathjax/2.7.5/MathJax.js?config=TeX-AMS-MML_SVG\"></script><script type=\"text/javascript\">if (window.MathJax && window.MathJax.Hub && window.MathJax.Hub.Config) {window.MathJax.Hub.Config({SVG: {font: \"STIX-Web\"}});}</script>                <script type=\"text/javascript\">window.PlotlyConfig = {MathJaxConfig: 'local'};</script>\n",
              "        <script charset=\"utf-8\" src=\"https://cdn.plot.ly/plotly-2.24.1.min.js\"></script>                <div id=\"8f492903-675d-4d40-9520-812360b7fe41\" class=\"plotly-graph-div\" style=\"height:525px; width:100%;\"></div>            <script type=\"text/javascript\">                                    window.PLOTLYENV=window.PLOTLYENV || {};                                    if (document.getElementById(\"8f492903-675d-4d40-9520-812360b7fe41\")) {                    Plotly.newPlot(                        \"8f492903-675d-4d40-9520-812360b7fe41\",                        [{\"alignmentgroup\":\"True\",\"hovertemplate\":\"Location=%{x}\\u003cbr\\u003ePopulation=%{y}\\u003cextra\\u003e\\u003c\\u002fextra\\u003e\",\"legendgroup\":\"\",\"marker\":{\"color\":\"#636efa\",\"pattern\":{\"shape\":\"\"}},\"name\":\"\",\"offsetgroup\":\"\",\"orientation\":\"v\",\"showlegend\":false,\"textposition\":\"auto\",\"x\":[\"World\",\"China\",\"India\",\"United States\",\"Indonesia\",\"Pakistan\",\"Nigeria\",\"Brazil\",\"Bangladesh\",\"Russia\",\"Mexico\",\"Japan\",\"Philippines\",\"Ethiopia\",\"Egypt\",\"Democratic Republic of the Congo\",\"Vietnam\",\"Turkey\",\"Iran\",\"Germany\",\"France\",\"United Kingdom\",\"Thailand\",\"Tanzania\",\"South Africa\",\"Italy\",\"Myanmar\",\"Colombia\",\"Kenya\",\"South Korea\",\"Sudan\",\"Spain\",\"Argentina\",\"Algeria\",\"Uganda\",\"Iraq\",\"Canada\",\"Poland\",\"Morocco\",\"Uzbekistan\",\"Ukraine\",\"Angola\",\"Afghanistan\",\"Peru\",\"Malaysia\",\"Mozambique\",\"Saudi Arabia\",\"Yemen\",\"Ghana\",\"Madagascar\",\"Ivory Coast\",\"Nepal\",\"Cameroon\",\"Venezuela\",\"Australia\",\"Niger\",\"North Korea\",\"Syria\",\"Taiwan\",\"Burkina Faso\",\"Mali\",\"Sri Lanka\",\"Malawi\",\"Kazakhstan\",\"Chile\",\"Zambia\",\"Romania\",\"Chad\",\"Somalia\",\"Senegal\",\"Netherlands\",\"Guatemala\",\"Cambodia\",\"Ecuador\",\"Zimbabwe\",\"South Sudan\",\"Rwanda\",\"Guinea\",\"Benin\",\"Burundi\",\"Bolivia\",\"Tunisia\",\"Belgium\",\"Papua New Guinea\",\"Haiti\",\"Jordan\",\"Cuba\",\"Czech Republic\",\"Dominican Republic\",\"Portugal\",\"Sweden\",\"Greece\",\"United Arab Emirates\",\"Tajikistan\",\"Azerbaijan\",\"Israel\",\"Honduras\",\"Hungary\",\"Austria\",\"Belarus\",\"Switzerland\",\"Sierra Leone\",\"Togo\",\"Hong Kong (China)\",\"Laos\",\"Libya\",\"Kyrgyzstan\",\"Turkmenistan\",\"El Salvador\",\"Nicaragua\",\"Serbia\",\"Bulgaria\",\"Republic of the Congo\",\"Paraguay\",\"Denmark\",\"Singapore\",\"Central African Republic\",\"Finland\",\"Norway\",\"Lebanon\",\"Palestine\",\"Slovakia\",\"New Zealand\",\"Costa Rica\",\"Ireland\",\"Liberia\",\"Oman\",\"Kuwait\",\"Mauritania\",\"Panama\",\"Croatia\",\"Eritrea\",\"Georgia\",\"Mongolia\",\"Uruguay\",\"Bosnia and Herzegovina\",\"Puerto Rico (US)\",\"Armenia\",\"Namibia\",\"Lithuania\",\"Qatar\",\"Jamaica\",\"Moldova\",\"Gambia\",\"Botswana\",\"Gabon\",\"Albania\",\"Lesotho\",\"Slovenia\",\"Latvia\",\"North Macedonia\",\"Guinea-Bissau\",\"Kosovo\",\"Bahrain\",\"Equatorial Guinea\",\"Estonia\",\"East Timor\",\"Trinidad and Tobago\",\"Mauritius\",\"Eswatini\",\"Djibouti\",\"Cyprus\",\"Fiji\",\"Bhutan\",\"Guyana\",\"Comoros\",\"Solomon Islands\",\"Macau (China)\",\"Luxembourg\",\"Montenegro\",\"Suriname\",\"[disputed \\u2013 discuss] Western Sahara\",\"Malta\",\"Maldives\",\"Cape Verde\",\"Brunei\",\"Belize\",\"Bahamas\",\"Iceland\",\"Northern Cyprus\",\"Transnistria\",\"Vanuatu\",\"French Polynesia (France)\",\"New Caledonia (France)\",\"Barbados\",\"Abkhazia\",\"S\\u00e3o Tom\\u00e9 and Pr\\u00edncipe\",\"Samoa\",\"Saint Lucia\",\"Guam (US)\",\"Cura\\u00e7ao (Netherlands)\",\"Kiribati\",\"Seychelles\",\"Grenada\",\"Saint Vincent and the Grenadines\",\"Aruba (Netherlands)\",\"Micronesia\",\"Antigua and Barbuda\",\"Jersey (UK)\",\"Tonga\",\"U.S. Virgin Islands (US)\",\"Andorra\",\"Isle of Man (UK)\",\"Cayman Islands (UK)\",\"Dominica\",\"Guernsey (UK)\",\"Bermuda (UK)\",\"Greenland (Denmark)\",\"South Ossetia\",\"Faroe Islands (Denmark)\",\"Saint Kitts and Nevis\",\"American Samoa (US)\",\"Turks and Caicos Islands (UK)\",\"Northern Mariana Islands (US)\",\"Marshall Islands\",\"Sint Maarten (Netherlands)\",\"Liechtenstein\",\"Monaco\",\"Gibraltar (UK)\",\"San Marino\",\"Saint Martin (France)\",\"British Virgin Islands (UK)\",\"\\u00c5land (Finland)\",\"Palau\",\"Anguilla (UK)\",\"Cook Islands\",\"Nauru\",\"Wallis and Futuna (France)\",\"Tuvalu\",\"Saint Barth\\u00e9lemy (France)\",\"Saint Pierre and Miquelon (France)\",\"Saint Helena, Ascension and Tristan da Cunha (UK)\",\"Montserrat (UK)\",\"Falkland Islands (UK)\",\"Norfolk Island (Australia)\",\"Christmas Island (Australia)\",\"Niue (New Zealand)\",\"Tokelau (New Zealand)\",\"Vatican City\",\"Cocos (Keeling) Islands (Australia)\",\"Pitcairn Islands (UK)\"],\"xaxis\":\"x\",\"y\":[8127721171,1409670000,1404910000,335893238,281603800,241499431,223800000,203080756,169828911,146150789,129713690,123850000,114163719,109499000,105914499,105247000,100300000,85372377,85000000,84673158,68468000,67596281,65975198,65070448,63015904,58971479,56712559,52695952,52428290,51265238,50448963,48797875,47067441,46700000,45935046,44414800,41012563,37582000,37369652,36963262,36700000,35121734,34262840,34038457,33980600,32419747,32175224,31888698,30832019,30811969,29389150,29164578,28758503,28405543,27364621,26312034,25950000,24672760,23409323,23409015,22395489,22037000,20270568,20159707,20086377,19610769,19051562,18675547,18143379,18126390,17981933,17843132,17336307,16938986,15178979,14746494,13798561,13261638,12910087,12837740,12006031,11850232,11834323,11781559,11743017,11516000,11089511,10859532,10760028,10639726,10553341,10413982,10288946,10277100,10151517,9921100,9892632,9584627,9179693,9155978,8981565,8494260,8095498,7531800,7443000,7381023,7100000,7057841,6884888,6803886,6605168,6445481,6142180,6109644,5972420,5917600,5633412,5588685,5571634,5490000,5483450,5422620,5338500,5309625,5281600,5248621,5203674,4913271,4475683,4064780,3855641,3748902,3694600,3504741,3444263,3264873,3205691,3039700,3022401,2892761,2857822,2825544,2423300,2417471,2410338,2408586,2402113,2306000,2124709,1860900,1826247,1781308,1762220,1577059,1558160,1374687,1373024,1367510,1260379,1235549,1001454,918100,893468,777224,772975,758316,750325,687000,672020,616695,616500,587259,542051,515132,491233,445400,410919,397360,383726,382836,360938,321409,279890,268510,267800,244236,228319,205557,184100,153836,155826,120740,120581,112579,110872,107151,105754,103603,103267,100179,87146,86398,84530,71105,67408,64769,64055,56865,56520,54815,51320,49710,49309,47329,42418,41349,40023,38367,34003,33950,32358,31538,30714,16733,15780,15040,11680,11620,10679,10585,6092,5651,4386,3662,2188,1692,1681,1647,764,593,40],\"yaxis\":\"y\",\"type\":\"bar\"}],                        {\"template\":{\"data\":{\"histogram2dcontour\":[{\"type\":\"histogram2dcontour\",\"colorbar\":{\"outlinewidth\":0,\"ticks\":\"\"},\"colorscale\":[[0.0,\"#0d0887\"],[0.1111111111111111,\"#46039f\"],[0.2222222222222222,\"#7201a8\"],[0.3333333333333333,\"#9c179e\"],[0.4444444444444444,\"#bd3786\"],[0.5555555555555556,\"#d8576b\"],[0.6666666666666666,\"#ed7953\"],[0.7777777777777778,\"#fb9f3a\"],[0.8888888888888888,\"#fdca26\"],[1.0,\"#f0f921\"]]}],\"choropleth\":[{\"type\":\"choropleth\",\"colorbar\":{\"outlinewidth\":0,\"ticks\":\"\"}}],\"histogram2d\":[{\"type\":\"histogram2d\",\"colorbar\":{\"outlinewidth\":0,\"ticks\":\"\"},\"colorscale\":[[0.0,\"#0d0887\"],[0.1111111111111111,\"#46039f\"],[0.2222222222222222,\"#7201a8\"],[0.3333333333333333,\"#9c179e\"],[0.4444444444444444,\"#bd3786\"],[0.5555555555555556,\"#d8576b\"],[0.6666666666666666,\"#ed7953\"],[0.7777777777777778,\"#fb9f3a\"],[0.8888888888888888,\"#fdca26\"],[1.0,\"#f0f921\"]]}],\"heatmap\":[{\"type\":\"heatmap\",\"colorbar\":{\"outlinewidth\":0,\"ticks\":\"\"},\"colorscale\":[[0.0,\"#0d0887\"],[0.1111111111111111,\"#46039f\"],[0.2222222222222222,\"#7201a8\"],[0.3333333333333333,\"#9c179e\"],[0.4444444444444444,\"#bd3786\"],[0.5555555555555556,\"#d8576b\"],[0.6666666666666666,\"#ed7953\"],[0.7777777777777778,\"#fb9f3a\"],[0.8888888888888888,\"#fdca26\"],[1.0,\"#f0f921\"]]}],\"heatmapgl\":[{\"type\":\"heatmapgl\",\"colorbar\":{\"outlinewidth\":0,\"ticks\":\"\"},\"colorscale\":[[0.0,\"#0d0887\"],[0.1111111111111111,\"#46039f\"],[0.2222222222222222,\"#7201a8\"],[0.3333333333333333,\"#9c179e\"],[0.4444444444444444,\"#bd3786\"],[0.5555555555555556,\"#d8576b\"],[0.6666666666666666,\"#ed7953\"],[0.7777777777777778,\"#fb9f3a\"],[0.8888888888888888,\"#fdca26\"],[1.0,\"#f0f921\"]]}],\"contourcarpet\":[{\"type\":\"contourcarpet\",\"colorbar\":{\"outlinewidth\":0,\"ticks\":\"\"}}],\"contour\":[{\"type\":\"contour\",\"colorbar\":{\"outlinewidth\":0,\"ticks\":\"\"},\"colorscale\":[[0.0,\"#0d0887\"],[0.1111111111111111,\"#46039f\"],[0.2222222222222222,\"#7201a8\"],[0.3333333333333333,\"#9c179e\"],[0.4444444444444444,\"#bd3786\"],[0.5555555555555556,\"#d8576b\"],[0.6666666666666666,\"#ed7953\"],[0.7777777777777778,\"#fb9f3a\"],[0.8888888888888888,\"#fdca26\"],[1.0,\"#f0f921\"]]}],\"surface\":[{\"type\":\"surface\",\"colorbar\":{\"outlinewidth\":0,\"ticks\":\"\"},\"colorscale\":[[0.0,\"#0d0887\"],[0.1111111111111111,\"#46039f\"],[0.2222222222222222,\"#7201a8\"],[0.3333333333333333,\"#9c179e\"],[0.4444444444444444,\"#bd3786\"],[0.5555555555555556,\"#d8576b\"],[0.6666666666666666,\"#ed7953\"],[0.7777777777777778,\"#fb9f3a\"],[0.8888888888888888,\"#fdca26\"],[1.0,\"#f0f921\"]]}],\"mesh3d\":[{\"type\":\"mesh3d\",\"colorbar\":{\"outlinewidth\":0,\"ticks\":\"\"}}],\"scatter\":[{\"fillpattern\":{\"fillmode\":\"overlay\",\"size\":10,\"solidity\":0.2},\"type\":\"scatter\"}],\"parcoords\":[{\"type\":\"parcoords\",\"line\":{\"colorbar\":{\"outlinewidth\":0,\"ticks\":\"\"}}}],\"scatterpolargl\":[{\"type\":\"scatterpolargl\",\"marker\":{\"colorbar\":{\"outlinewidth\":0,\"ticks\":\"\"}}}],\"bar\":[{\"error_x\":{\"color\":\"#2a3f5f\"},\"error_y\":{\"color\":\"#2a3f5f\"},\"marker\":{\"line\":{\"color\":\"#E5ECF6\",\"width\":0.5},\"pattern\":{\"fillmode\":\"overlay\",\"size\":10,\"solidity\":0.2}},\"type\":\"bar\"}],\"scattergeo\":[{\"type\":\"scattergeo\",\"marker\":{\"colorbar\":{\"outlinewidth\":0,\"ticks\":\"\"}}}],\"scatterpolar\":[{\"type\":\"scatterpolar\",\"marker\":{\"colorbar\":{\"outlinewidth\":0,\"ticks\":\"\"}}}],\"histogram\":[{\"marker\":{\"pattern\":{\"fillmode\":\"overlay\",\"size\":10,\"solidity\":0.2}},\"type\":\"histogram\"}],\"scattergl\":[{\"type\":\"scattergl\",\"marker\":{\"colorbar\":{\"outlinewidth\":0,\"ticks\":\"\"}}}],\"scatter3d\":[{\"type\":\"scatter3d\",\"line\":{\"colorbar\":{\"outlinewidth\":0,\"ticks\":\"\"}},\"marker\":{\"colorbar\":{\"outlinewidth\":0,\"ticks\":\"\"}}}],\"scattermapbox\":[{\"type\":\"scattermapbox\",\"marker\":{\"colorbar\":{\"outlinewidth\":0,\"ticks\":\"\"}}}],\"scatterternary\":[{\"type\":\"scatterternary\",\"marker\":{\"colorbar\":{\"outlinewidth\":0,\"ticks\":\"\"}}}],\"scattercarpet\":[{\"type\":\"scattercarpet\",\"marker\":{\"colorbar\":{\"outlinewidth\":0,\"ticks\":\"\"}}}],\"carpet\":[{\"aaxis\":{\"endlinecolor\":\"#2a3f5f\",\"gridcolor\":\"white\",\"linecolor\":\"white\",\"minorgridcolor\":\"white\",\"startlinecolor\":\"#2a3f5f\"},\"baxis\":{\"endlinecolor\":\"#2a3f5f\",\"gridcolor\":\"white\",\"linecolor\":\"white\",\"minorgridcolor\":\"white\",\"startlinecolor\":\"#2a3f5f\"},\"type\":\"carpet\"}],\"table\":[{\"cells\":{\"fill\":{\"color\":\"#EBF0F8\"},\"line\":{\"color\":\"white\"}},\"header\":{\"fill\":{\"color\":\"#C8D4E3\"},\"line\":{\"color\":\"white\"}},\"type\":\"table\"}],\"barpolar\":[{\"marker\":{\"line\":{\"color\":\"#E5ECF6\",\"width\":0.5},\"pattern\":{\"fillmode\":\"overlay\",\"size\":10,\"solidity\":0.2}},\"type\":\"barpolar\"}],\"pie\":[{\"automargin\":true,\"type\":\"pie\"}]},\"layout\":{\"autotypenumbers\":\"strict\",\"colorway\":[\"#636efa\",\"#EF553B\",\"#00cc96\",\"#ab63fa\",\"#FFA15A\",\"#19d3f3\",\"#FF6692\",\"#B6E880\",\"#FF97FF\",\"#FECB52\"],\"font\":{\"color\":\"#2a3f5f\"},\"hovermode\":\"closest\",\"hoverlabel\":{\"align\":\"left\"},\"paper_bgcolor\":\"white\",\"plot_bgcolor\":\"#E5ECF6\",\"polar\":{\"bgcolor\":\"#E5ECF6\",\"angularaxis\":{\"gridcolor\":\"white\",\"linecolor\":\"white\",\"ticks\":\"\"},\"radialaxis\":{\"gridcolor\":\"white\",\"linecolor\":\"white\",\"ticks\":\"\"}},\"ternary\":{\"bgcolor\":\"#E5ECF6\",\"aaxis\":{\"gridcolor\":\"white\",\"linecolor\":\"white\",\"ticks\":\"\"},\"baxis\":{\"gridcolor\":\"white\",\"linecolor\":\"white\",\"ticks\":\"\"},\"caxis\":{\"gridcolor\":\"white\",\"linecolor\":\"white\",\"ticks\":\"\"}},\"coloraxis\":{\"colorbar\":{\"outlinewidth\":0,\"ticks\":\"\"}},\"colorscale\":{\"sequential\":[[0.0,\"#0d0887\"],[0.1111111111111111,\"#46039f\"],[0.2222222222222222,\"#7201a8\"],[0.3333333333333333,\"#9c179e\"],[0.4444444444444444,\"#bd3786\"],[0.5555555555555556,\"#d8576b\"],[0.6666666666666666,\"#ed7953\"],[0.7777777777777778,\"#fb9f3a\"],[0.8888888888888888,\"#fdca26\"],[1.0,\"#f0f921\"]],\"sequentialminus\":[[0.0,\"#0d0887\"],[0.1111111111111111,\"#46039f\"],[0.2222222222222222,\"#7201a8\"],[0.3333333333333333,\"#9c179e\"],[0.4444444444444444,\"#bd3786\"],[0.5555555555555556,\"#d8576b\"],[0.6666666666666666,\"#ed7953\"],[0.7777777777777778,\"#fb9f3a\"],[0.8888888888888888,\"#fdca26\"],[1.0,\"#f0f921\"]],\"diverging\":[[0,\"#8e0152\"],[0.1,\"#c51b7d\"],[0.2,\"#de77ae\"],[0.3,\"#f1b6da\"],[0.4,\"#fde0ef\"],[0.5,\"#f7f7f7\"],[0.6,\"#e6f5d0\"],[0.7,\"#b8e186\"],[0.8,\"#7fbc41\"],[0.9,\"#4d9221\"],[1,\"#276419\"]]},\"xaxis\":{\"gridcolor\":\"white\",\"linecolor\":\"white\",\"ticks\":\"\",\"title\":{\"standoff\":15},\"zerolinecolor\":\"white\",\"automargin\":true,\"zerolinewidth\":2},\"yaxis\":{\"gridcolor\":\"white\",\"linecolor\":\"white\",\"ticks\":\"\",\"title\":{\"standoff\":15},\"zerolinecolor\":\"white\",\"automargin\":true,\"zerolinewidth\":2},\"scene\":{\"xaxis\":{\"backgroundcolor\":\"#E5ECF6\",\"gridcolor\":\"white\",\"linecolor\":\"white\",\"showbackground\":true,\"ticks\":\"\",\"zerolinecolor\":\"white\",\"gridwidth\":2},\"yaxis\":{\"backgroundcolor\":\"#E5ECF6\",\"gridcolor\":\"white\",\"linecolor\":\"white\",\"showbackground\":true,\"ticks\":\"\",\"zerolinecolor\":\"white\",\"gridwidth\":2},\"zaxis\":{\"backgroundcolor\":\"#E5ECF6\",\"gridcolor\":\"white\",\"linecolor\":\"white\",\"showbackground\":true,\"ticks\":\"\",\"zerolinecolor\":\"white\",\"gridwidth\":2}},\"shapedefaults\":{\"line\":{\"color\":\"#2a3f5f\"}},\"annotationdefaults\":{\"arrowcolor\":\"#2a3f5f\",\"arrowhead\":0,\"arrowwidth\":1},\"geo\":{\"bgcolor\":\"white\",\"landcolor\":\"#E5ECF6\",\"subunitcolor\":\"white\",\"showland\":true,\"showlakes\":true,\"lakecolor\":\"white\"},\"title\":{\"x\":0.05},\"mapbox\":{\"style\":\"light\"}}},\"xaxis\":{\"anchor\":\"y\",\"domain\":[0.0,1.0],\"title\":{\"text\":\"Location\"}},\"yaxis\":{\"anchor\":\"x\",\"domain\":[0.0,1.0],\"title\":{\"text\":\"Population\"}},\"legend\":{\"tracegroupgap\":0},\"title\":{\"text\":\"Population by Location\"},\"barmode\":\"relative\"},                        {\"responsive\": true}                    ).then(function(){\n",
              "                            \n",
              "var gd = document.getElementById('8f492903-675d-4d40-9520-812360b7fe41');\n",
              "var x = new MutationObserver(function (mutations, observer) {{\n",
              "        var display = window.getComputedStyle(gd).display;\n",
              "        if (!display || display === 'none') {{\n",
              "            console.log([gd, 'removed!']);\n",
              "            Plotly.purge(gd);\n",
              "            observer.disconnect();\n",
              "        }}\n",
              "}});\n",
              "\n",
              "// Listen for the removal of the full notebook cells\n",
              "var notebookContainer = gd.closest('#notebook-container');\n",
              "if (notebookContainer) {{\n",
              "    x.observe(notebookContainer, {childList: true});\n",
              "}}\n",
              "\n",
              "// Listen for the clearing of the current output cell\n",
              "var outputEl = gd.closest('.output');\n",
              "if (outputEl) {{\n",
              "    x.observe(outputEl, {childList: true});\n",
              "}}\n",
              "\n",
              "                        })                };                            </script>        </div>\n",
              "</body>\n",
              "</html>"
            ]
          },
          "metadata": {}
        }
      ],
      "source": [
        "import requests\n",
        "from bs4 import BeautifulSoup\n",
        "import pandas as pd\n",
        "import sqlite3\n",
        "import plotly.express as px\n",
        "from io import StringIO\n",
        "\n",
        "# Step 1: Scrape the Wikipedia Table\n",
        "def scrape_wikipedia_table(url):\n",
        "    response = requests.get(url)\n",
        "    soup = BeautifulSoup(response.content, 'html.parser')\n",
        "\n",
        "    # Find the first table on the page\n",
        "    table = soup.find('table')\n",
        "\n",
        "    if table is None:\n",
        "        raise ValueError(\"No tables found on the page\")\n",
        "\n",
        "    # Convert the table to a DataFrame using StringIO\n",
        "    table_str = str(table)\n",
        "    df = pd.read_html(StringIO(table_str))[0]\n",
        "\n",
        "    # Inspect the columns to understand the structure\n",
        "    print(\"Column Names in the Table:\", df.columns)\n",
        "\n",
        "    return df\n",
        "\n",
        "# Step 2: Process the Data (Adjust the columns based on inspection)\n",
        "def process_data(df):\n",
        "    # Use the actual column names from the DataFrame\n",
        "    relevant_columns = ['Location', 'Population']\n",
        "\n",
        "    # Filter the DataFrame to include only the relevant columns\n",
        "    df_filtered = df[relevant_columns]\n",
        "    return df_filtered\n",
        "\n",
        "# Step 3: Save the Data in a Structured Database (SQLite)\n",
        "def save_to_database(df, database_name, table_name):\n",
        "    conn = sqlite3.connect(database_name)\n",
        "    df.to_sql(table_name, conn, if_exists='replace', index=False)\n",
        "    conn.close()\n",
        "\n",
        "# Step 4: Visualize the Data using Plotly\n",
        "def visualize_data(database_name, table_name, x_column, y_column):\n",
        "    conn = sqlite3.connect(database_name)\n",
        "    df = pd.read_sql(f'SELECT * FROM {table_name}', conn)\n",
        "    fig = px.bar(df, x=x_column, y=y_column, title=f'{y_column} by {x_column}')\n",
        "    fig.show()\n",
        "    conn.close()\n",
        "\n",
        "\n",
        "# Example Usage\n",
        "if __name__ == \"__main__\":\n",
        "    # Define the URL (Example: List of countries by population)\n",
        "    url = 'https://en.wikipedia.org/wiki/List_of_countries_and_dependencies_by_population'\n",
        "\n",
        "    # Step 1: Scrape the Wikipedia table\n",
        "    df = scrape_wikipedia_table(url)\n",
        "\n",
        "    # Step 2: Process the data\n",
        "    df_filtered = process_data(df)\n",
        "\n",
        "    # Step 3: Save the data to an SQLite database\n",
        "    database_name = 'population_data.db'\n",
        "    table_name = 'population'\n",
        "    save_to_database(df_filtered, database_name, table_name)\n",
        "\n",
        "    # Step 4: Visualize the data using Plotly\n",
        "    x_column = 'Location'\n",
        "    y_column = 'Population'\n",
        "    visualize_data(database_name, table_name, x_column, y_column)"
      ]
    }
  ]
}